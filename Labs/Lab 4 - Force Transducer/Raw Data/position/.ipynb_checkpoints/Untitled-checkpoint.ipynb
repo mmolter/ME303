{
 "cells": [
  {
   "cell_type": "code",
   "execution_count": 10,
   "metadata": {},
   "outputs": [],
   "source": [
    "import matplotlib.pyplot as plt\n",
    "import pandas as pd\n",
    "import numpy as np\n",
    "\n",
    "import glob\n",
    "import re"
   ]
  },
  {
   "cell_type": "code",
   "execution_count": 11,
   "metadata": {},
   "outputs": [
    {
     "name": "stdout",
     "output_type": "stream",
     "text": [
      "raw/1625_75cm_05deg_Pendulum Bob.csv\n",
      "raw/1625_75cm_05deg_Pivot.csv\n",
      "raw/1626_75cm_15deg_Pendulum Bob.csv\n",
      "raw/1626_75cm_15deg_Pivot.csv\n",
      "raw/1627_75cm_30deg_Pendulum Bob.csv\n",
      "raw/1627_75cm_30deg_Pivot.csv\n",
      "raw/1629_50cm_05deg_Pendulum Bob.csv\n",
      "raw/1629_50cm_05deg_Pivot.csv\n",
      "raw/1630_50cm_15deg_Pendulum Bob.csv\n",
      "raw/1630_50cm_15deg_Pivot.csv\n",
      "raw/1631_50cm_30deg_Pendulum Bob.csv\n",
      "raw/1631_50cm_30deg_Pivot.csv\n",
      "raw/1637_25cm_05deg_Pendulum Bob.csv\n",
      "raw/1637_25cm_05deg_Pivot.csv\n",
      "raw/1638_25cm_15deg_Pendulum Bob.csv\n",
      "raw/1638_25cm_15deg_Pivot.csv\n",
      "raw/1639_25cm_30deg_Pendulum Bob.csv\n",
      "raw/1639_25cm_30deg_Pivot.csv\n"
     ]
    }
   ],
   "source": [
    "for file in glob.glob(r'raw/*.csv'):\n",
    "    print(file)"
   ]
  },
  {
   "cell_type": "code",
   "execution_count": 33,
   "metadata": {},
   "outputs": [
    {
     "name": "stdout",
     "output_type": "stream",
     "text": [
      "333\n",
      "333\n"
     ]
    },
    {
     "data": {
      "image/png": "[encoded data removed]",
      "text/plain": [
       "<Figure size 432x288 with 1 Axes>"
      ]
     },
     "metadata": {
      "needs_background": "light"
     },
     "output_type": "display_data"
    }
   ],
   "source": [
    "df = pd.read_csv(r'raw/1630_50cm_15deg_Pendulum Bob.csv', header=1)\n",
    "df = df.drop(columns=['v_{x}', 'v_{y}', 'a_{x}', 'a_{y}'])\n",
    "\n",
    "plt.plot(df.x, df.y)\n",
    "print(len(df))\n",
    "\n",
    "df = pd.read_csv(r'raw/1630_50cm_15deg_Pivot.csv', header=1)\n",
    "df = df.drop(columns=['v_{x}', 'v_{y}', 'a_{x}', 'a_{y}'])\n",
    "\n",
    "plt.plot(df.x, df.y)\n",
    "print(len(df))\n",
    "\n",
    "plt.ylim((0.2, 1))\n",
    "plt.show()"
   ]
  }
 ],
 "metadata": {
  "kernelspec": {
   "display_name": "Python 3",
   "language": "python",
   "name": "python3"
  },
  "language_info": {
   "codemirror_mode": {
    "name": "ipython",
    "version": 3
   },
   "file_extension": ".py",
   "mimetype": "text/x-python",
   "name": "python",
   "nbconvert_exporter": "python",
   "pygments_lexer": "ipython3",
   "version": "3.5.2"
  }
 },
 "nbformat": 4,
 "nbformat_minor": 2
}
