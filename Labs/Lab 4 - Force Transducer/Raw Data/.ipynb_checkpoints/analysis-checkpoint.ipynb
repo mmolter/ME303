{
 "cells": [
  {
   "cell_type": "markdown",
   "metadata": {},
   "source": [
    "# Pendulum Lab Data Analysis\n",
    "\n",
    "The following workbook walk through importing all of the data from the pendulum lab, and processing it."
   ]
  },
  {
   "cell_type": "markdown",
   "metadata": {},
   "source": [
    "The first step is to import all relevant libraries."
   ]
  },
  {
   "cell_type": "code",
   "execution_count": 2,
   "metadata": {},
   "outputs": [],
   "source": [
    "import matplotlib.pyplot as plt\n",
    "import pandas as pd\n",
    "import numpy as np\n",
    "\n",
    "import glob\n",
    "import re\n",
    "import os"
   ]
  },
  {
   "cell_type": "markdown",
   "metadata": {},
   "source": [
    "The LabView software outputs voltage data as a `*.lvm` file. The following function takes a file path, and converts the file to a Pandas DataFrame."
   ]
  },
  {
   "cell_type": "code",
   "execution_count": 3,
   "metadata": {},
   "outputs": [],
   "source": [
    "def read_lvm(filename):\n",
    "    ''' Take filename of *.lvm file and return data frame. '''\n",
    "    \n",
    "    df = pd.read_csv(filename, skiprows=22, delimiter='\\t')\n",
    "    \n",
    "    df.columns=['t', 'V', 'COMMENTS']\n",
    "    df = df.drop(['COMMENTS'], axis=1)\n",
    "    \n",
    "    return df"
   ]
  },
  {
   "cell_type": "markdown",
   "metadata": {},
   "source": [
    "The next step is to calibrate the voltage output of the load cell in terms of force. All the calibration files are in the `force/` folder. Lets take a brief look at the list for files."
   ]
  },
  {
   "cell_type": "code",
   "execution_count": 7,
   "metadata": {},
   "outputs": [
    {
     "name": "stdout",
     "output_type": "stream",
     "text": [
      "force/calibration_0_g.lvm\n",
      "force/calibration_100_g.lvm\n",
      "force/calibration_10_g.lvm\n",
      "force/calibration_200_g.lvm\n",
      "force/calibration_20_g.lvm\n",
      "force/calibration_50_g.lvm\n"
     ]
    }
   ],
   "source": [
    "for file in glob.glob('force/*calibration*'):\n",
    "    print(file)"
   ]
  },
  {
   "cell_type": "markdown",
   "metadata": {},
   "source": [
    "While the mass used in each calibration file was given a round, nominal value, the true values were massed in class. We can put these in a dictionary."
   ]
  },
  {
   "cell_type": "code",
   "execution_count": 14,
   "metadata": {},
   "outputs": [],
   "source": [
    "real_mass = {\n",
    "      '0':    0.0,\n",
    "     '10':   10.0,\n",
    "     '20':   20.2,\n",
    "     '50':   50.0,\n",
    "    '100':   99.8,\n",
    "    '200':  200.2,\n",
    "}"
   ]
  },
  {
   "cell_type": "markdown",
   "metadata": {},
   "source": [
    "We will now read each `*.lvm` file, find the average voltage, and create a list of real masses and voltages."
   ]
  },
  {
   "cell_type": "code",
   "execution_count": 18,
   "metadata": {},
   "outputs": [
    {
     "data": {
      "text/html": [
       "<div>\n",
       "<style scoped>\n",
       "    .dataframe tbody tr th:only-of-type {\n",
       "        vertical-align: middle;\n",
       "    }\n",
       "\n",
       "    .dataframe tbody tr th {\n",
       "        vertical-align: top;\n",
       "    }\n",
       "\n",
       "    .dataframe thead th {\n",
       "        text-align: right;\n",
       "    }\n",
       "</style>\n",
       "<table border=\"1\" class=\"dataframe\">\n",
       "  <thead>\n",
       "    <tr style=\"text-align: right;\">\n",
       "      <th></th>\n",
       "      <th>MASS</th>\n",
       "      <th>VOLTAGE</th>\n",
       "    </tr>\n",
       "  </thead>\n",
       "  <tbody>\n",
       "    <tr>\n",
       "      <th>0</th>\n",
       "      <td>0.0</td>\n",
       "      <td>0.101089</td>\n",
       "    </tr>\n",
       "    <tr>\n",
       "      <th>1</th>\n",
       "      <td>99.8</td>\n",
       "      <td>0.100614</td>\n",
       "    </tr>\n",
       "    <tr>\n",
       "      <th>2</th>\n",
       "      <td>10.0</td>\n",
       "      <td>0.101039</td>\n",
       "    </tr>\n",
       "    <tr>\n",
       "      <th>3</th>\n",
       "      <td>200.2</td>\n",
       "      <td>0.100145</td>\n",
       "    </tr>\n",
       "    <tr>\n",
       "      <th>4</th>\n",
       "      <td>20.2</td>\n",
       "      <td>0.100989</td>\n",
       "    </tr>\n",
       "    <tr>\n",
       "      <th>5</th>\n",
       "      <td>50.0</td>\n",
       "      <td>0.100848</td>\n",
       "    </tr>\n",
       "  </tbody>\n",
       "</table>\n",
       "</div>"
      ],
      "text/plain": [
       "    MASS   VOLTAGE\n",
       "0    0.0  0.101089\n",
       "1   99.8  0.100614\n",
       "2   10.0  0.101039\n",
       "3  200.2  0.100145\n",
       "4   20.2  0.100989\n",
       "5   50.0  0.100848"
      ]
     },
     "execution_count": 18,
     "metadata": {},
     "output_type": "execute_result"
    }
   ],
   "source": [
    "m = []\n",
    "v = []\n",
    "\n",
    "for filename in glob.glob(r'force/*calibration*'):\n",
    "    # Find the mass value.\n",
    "    nominal_mass = re.search(r'\\d{1,3}', filename).group()\n",
    "    mass = real_mass[nominal_mass]\n",
    "    \n",
    "    # Find the voltage value.\n",
    "    df = read_lvm(filename)\n",
    "    voltage = df['V'].mean()\n",
    "    \n",
    "    # Add them to the list.\n",
    "    m.append(mass)\n",
    "    v.append(voltage)\n",
    "    \n",
    "calibration_data = pd.DataFrame({\n",
    "    'MASS': m,\n",
    "    'VOLTAGE': v,\n",
    "})\n",
    "\n",
    "calibration_data"
   ]
  },
  {
   "cell_type": "markdown",
   "metadata": {},
   "source": [
    "Now we can construct a transfer function that converts back and forth between voltage and mass."
   ]
  },
  {
   "cell_type": "code",
   "execution_count": 34,
   "metadata": {},
   "outputs": [],
   "source": [
    "# Perform a linear regression\n",
    "c1, c0 = np.polyfit(calibration_data['VOLTAGE'],\n",
    "                    calibration_data['MASS'], 1)\n",
    "\n",
    "def calibration(mass=None, voltage=None):\n",
    "    # If the user provided voltage, return mass\n",
    "    if voltage is not None:\n",
    "        return c1 * voltage + c0\n",
    "    \n",
    "    # If the user provided mass, return voltage\n",
    "    if mass is not None:\n",
    "        return (mass - c0) / c1"
   ]
  },
  {
   "cell_type": "markdown",
   "metadata": {},
   "source": [
    "Let's include a quick plot to check the validity of our calibration."
   ]
  },
  {
   "cell_type": "code",
   "execution_count": 50,
   "metadata": {},
   "outputs": [
    {
     "data": {
      "image/png": "[encoded data removed]",
      "text/plain": [
       "<Figure size 432x288 with 1 Axes>"
      ]
     },
     "metadata": {
      "needs_background": "light"
     },
     "output_type": "display_data"
    }
   ],
   "source": [
    "plt.scatter(calibration_data['VOLTAGE'] * 1000,\n",
    "            calibration_data['MASS'],\n",
    "            c='w', edgecolor='k', s=25)\n",
    "\n",
    "m = np.linspace(0, 300, 1000)\n",
    "plt.plot(calibration(mass=m) * 1000,\n",
    "         m, c='k',\n",
    "         linewidth=1,\n",
    "         linestyle='--',\n",
    "         zorder=0)\n",
    "\n",
    "plt.xlim((100, 101.25))\n",
    "plt.ylim((0, 250))\n",
    "\n",
    "plt.xlabel('Output (mV)')\n",
    "plt.ylabel('Mass (g)')\n",
    "\n",
    "plt.show()"
   ]
  },
  {
   "cell_type": "code",
   "execution_count": null,
   "metadata": {},
   "outputs": [],
   "source": []
  }
 ],
 "metadata": {
  "kernelspec": {
   "display_name": "Python 3",
   "language": "python",
   "name": "python3"
  },
  "language_info": {
   "codemirror_mode": {
    "name": "ipython",
    "version": 3
   },
   "file_extension": ".py",
   "mimetype": "text/x-python",
   "name": "python",
   "nbconvert_exporter": "python",
   "pygments_lexer": "ipython3",
   "version": "3.5.2"
  }
 },
 "nbformat": 4,
 "nbformat_minor": 2
}
