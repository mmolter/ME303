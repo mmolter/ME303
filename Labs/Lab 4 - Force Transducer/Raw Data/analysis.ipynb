{
 "cells": [
  {
   "cell_type": "markdown",
   "metadata": {},
   "source": [
    "# Pendulum Lab Data Analysis\n",
    "\n",
    "The following workbook walk through importing all of the data from the pendulum lab, and processing it."
   ]
  },
  {
   "cell_type": "markdown",
   "metadata": {},
   "source": [
    "The first step is to import all relevant libraries."
   ]
  },
  {
   "cell_type": "code",
   "execution_count": 1,
   "metadata": {},
   "outputs": [],
   "source": [
    "import matplotlib.pyplot as plt\n",
    "import pandas as pd\n",
    "import numpy as np\n",
    "\n",
    "from scipy.signal import find_peaks\n",
    "\n",
    "import glob\n",
    "import re\n",
    "import os"
   ]
  },
  {
   "cell_type": "markdown",
   "metadata": {},
   "source": [
    "The LabView software outputs voltage data as a `*.lvm` file. The following function takes a file path, and converts the file to a Pandas DataFrame."
   ]
  },
  {
   "cell_type": "code",
   "execution_count": 2,
   "metadata": {},
   "outputs": [],
   "source": [
    "def read_lvm(filename, calibrate=False):\n",
    "    ''' Take filename of *.lvm file and return data frame. '''\n",
    "    \n",
    "    df = pd.read_csv(filename, skiprows=22, delimiter='\\t')\n",
    "    \n",
    "    df.columns=['t', 'V', 'COMMENTS']\n",
    "    df = df.drop(['COMMENTS'], axis=1)\n",
    "    \n",
    "    return df"
   ]
  },
  {
   "cell_type": "markdown",
   "metadata": {},
   "source": [
    "Another type of file we will have to process is the `*.csv` output from our Physics Traker motion analysis software. Similarly, we will want this data as a `pandas` DataFrame."
   ]
  },
  {
   "cell_type": "code",
   "execution_count": 3,
   "metadata": {},
   "outputs": [],
   "source": [
    "def process_tracker_file(filename):\n",
    "    ''' Return a DataFrame with proper columns given tracker *.csv file. '''\n",
    "    \n",
    "    df = pd.read_csv(filename, header=1)\n",
    "    df = df.drop(columns=['v_{x}', 'v_{y}', 'a_{x}', 'a_{y}'])\n",
    "    \n",
    "    return df"
   ]
  },
  {
   "cell_type": "markdown",
   "metadata": {},
   "source": [
    "The next step is to calibrate the voltage output of the load cell in terms of force. All the calibration files are in the `force/` folder. Lets take a brief look at the list for files."
   ]
  },
  {
   "cell_type": "code",
   "execution_count": 4,
   "metadata": {},
   "outputs": [
    {
     "name": "stdout",
     "output_type": "stream",
     "text": [
      "force/calibration_0_g.lvm\n",
      "force/calibration_100_g.lvm\n",
      "force/calibration_10_g.lvm\n",
      "force/calibration_200_g.lvm\n",
      "force/calibration_20_g.lvm\n",
      "force/calibration_50_g.lvm\n"
     ]
    }
   ],
   "source": [
    "for file in glob.glob('force/*calibration*'):\n",
    "    print(file)"
   ]
  },
  {
   "cell_type": "markdown",
   "metadata": {},
   "source": [
    "While the mass used in each calibration file was given a round, nominal value, the true values were massed in class. We can put these in a dictionary."
   ]
  },
  {
   "cell_type": "code",
   "execution_count": 5,
   "metadata": {},
   "outputs": [],
   "source": [
    "real_mass = {\n",
    "      '0':    0.0,\n",
    "     '10':   10.0,\n",
    "     '20':   20.2,\n",
    "     '50':   50.0,\n",
    "    '100':   99.8,\n",
    "    '200':  200.2,\n",
    "}"
   ]
  },
  {
   "cell_type": "markdown",
   "metadata": {},
   "source": [
    "We will now read each `*.lvm` file, find the average voltage, and create a list of real masses and voltages."
   ]
  },
  {
   "cell_type": "code",
   "execution_count": 11,
   "metadata": {},
   "outputs": [
    {
     "data": {
      "text/html": [
       "<div>\n",
       "<style scoped>\n",
       "    .dataframe tbody tr th:only-of-type {\n",
       "        vertical-align: middle;\n",
       "    }\n",
       "\n",
       "    .dataframe tbody tr th {\n",
       "        vertical-align: top;\n",
       "    }\n",
       "\n",
       "    .dataframe thead th {\n",
       "        text-align: right;\n",
       "    }\n",
       "</style>\n",
       "<table border=\"1\" class=\"dataframe\">\n",
       "  <thead>\n",
       "    <tr style=\"text-align: right;\">\n",
       "      <th></th>\n",
       "      <th>MASS</th>\n",
       "      <th>VOLTAGE</th>\n",
       "    </tr>\n",
       "  </thead>\n",
       "  <tbody>\n",
       "    <tr>\n",
       "      <th>0</th>\n",
       "      <td>0.0</td>\n",
       "      <td>0.101089</td>\n",
       "    </tr>\n",
       "    <tr>\n",
       "      <th>1</th>\n",
       "      <td>99.8</td>\n",
       "      <td>0.100614</td>\n",
       "    </tr>\n",
       "    <tr>\n",
       "      <th>2</th>\n",
       "      <td>10.0</td>\n",
       "      <td>0.101039</td>\n",
       "    </tr>\n",
       "    <tr>\n",
       "      <th>3</th>\n",
       "      <td>200.2</td>\n",
       "      <td>0.100145</td>\n",
       "    </tr>\n",
       "    <tr>\n",
       "      <th>4</th>\n",
       "      <td>20.2</td>\n",
       "      <td>0.100989</td>\n",
       "    </tr>\n",
       "    <tr>\n",
       "      <th>5</th>\n",
       "      <td>50.0</td>\n",
       "      <td>0.100848</td>\n",
       "    </tr>\n",
       "  </tbody>\n",
       "</table>\n",
       "</div>"
      ],
      "text/plain": [
       "    MASS   VOLTAGE\n",
       "0    0.0  0.101089\n",
       "1   99.8  0.100614\n",
       "2   10.0  0.101039\n",
       "3  200.2  0.100145\n",
       "4   20.2  0.100989\n",
       "5   50.0  0.100848"
      ]
     },
     "execution_count": 11,
     "metadata": {},
     "output_type": "execute_result"
    }
   ],
   "source": [
    "m = []\n",
    "v = []\n",
    "\n",
    "for filename in glob.glob(r'force/*calibration*'):\n",
    "    # Find the mass value.\n",
    "    nominal_mass = re.search(r'\\d{1,3}', filename).group()\n",
    "    mass = real_mass[nominal_mass]\n",
    "    \n",
    "    # Find the voltage value.\n",
    "    df = read_lvm(filename)\n",
    "    voltage = df['V'].mean()\n",
    "    \n",
    "    # Add them to the list.\n",
    "    m.append(mass)\n",
    "    v.append(voltage)\n",
    "    \n",
    "calibration_data = pd.DataFrame({\n",
    "    'MASS': m,\n",
    "    'VOLTAGE': v,\n",
    "})\n",
    "\n",
    "calibration_data"
   ]
  },
  {
   "cell_type": "markdown",
   "metadata": {},
   "source": [
    "Now we can construct a transfer function that converts back and forth between voltage and mass."
   ]
  },
  {
   "cell_type": "code",
   "execution_count": 87,
   "metadata": {},
   "outputs": [
    {
     "name": "stdout",
     "output_type": "stream",
     "text": [
      "-212449.71370072104 21475.53851081779\n"
     ]
    }
   ],
   "source": [
    "# Perform a linear regression\n",
    "c1, c0 = np.polyfit(calibration_data['VOLTAGE'],\n",
    "                    calibration_data['MASS'], 1)\n",
    "\n",
    "print(c1, c0)\n",
    "\n",
    "def calibration_g(mass=None, voltage=None):\n",
    "    # If the user provided voltage, return mass\n",
    "    if voltage is not None:\n",
    "        return c1 * voltage + c0\n",
    "    \n",
    "    # If the user provided mass, return voltage\n",
    "    if mass is not None:\n",
    "        return (mass - c0) / c1\n",
    "    \n",
    "def calibration_N(voltage):\n",
    "    mass = c1 * voltage + c0\n",
    "    mass += 9.81 * 498.0\n",
    "    \n",
    "    newtons = mass / 101.97\n",
    "    \n",
    "    return newtons"
   ]
  },
  {
   "cell_type": "markdown",
   "metadata": {},
   "source": [
    "Let's include a quick plot to check the validity of our calibration."
   ]
  },
  {
   "cell_type": "code",
   "execution_count": 13,
   "metadata": {},
   "outputs": [
    {
     "data": {
      "image/png": "[encoded data removed]",
      "text/plain": [
       "<Figure size 432x288 with 1 Axes>"
      ]
     },
     "metadata": {
      "needs_background": "light"
     },
     "output_type": "display_data"
    }
   ],
   "source": [
    "plt.scatter(calibration_data['VOLTAGE'] * 1000,\n",
    "            calibration_data['MASS'],\n",
    "            c='w', edgecolor='k', s=25)\n",
    "\n",
    "m = np.linspace(0, 300, 1000)\n",
    "plt.plot(calibration(mass=m) * 1000,\n",
    "         m, c='k',\n",
    "         linewidth=1,\n",
    "         linestyle='--',\n",
    "         zorder=0)\n",
    "\n",
    "plt.xlim((100, 101.25))\n",
    "plt.ylim((0, 250))\n",
    "\n",
    "plt.xlabel('Output (mV)')\n",
    "plt.ylabel('Mass (g)')\n",
    "\n",
    "plt.savefig('calibration_plot', dpi=300)\n",
    "\n",
    "plt.show()"
   ]
  },
  {
   "cell_type": "markdown",
   "metadata": {},
   "source": [
    "Now we want to import our video analysis files, process them, and save them as cleaned analysis files with all the parameters we need."
   ]
  },
  {
   "cell_type": "code",
   "execution_count": 66,
   "metadata": {},
   "outputs": [],
   "source": [
    "# Identify all of the videos by their number.\n",
    "videos = set()\n",
    "for file in glob.glob(r'position/raw/*.csv'):\n",
    "    n, l, deg = re.match(r'position/raw/(\\d+)_(\\d\\d)cm_(\\d\\d)deg', file).groups()\n",
    "    videos.add(n)\n",
    "    \n",
    "# Create a master data frame to hold all the data.\n",
    "master_df = pd.DataFrame()\n",
    "\n",
    "# Loop through each video.\n",
    "for video in videos:  \n",
    "    # Grab both the pendulum point, and pivot point tracker files.\n",
    "    files = glob.glob('position/raw/*' + video + '*.csv')\n",
    "    pendulum_file, pivot_file = files\n",
    "    \n",
    "    # Import them as DataFrames\n",
    "    pendulum_df = process_tracker_file(pendulum_file)\n",
    "    pivot_df    = process_tracker_file(pivot_file)\n",
    "    \n",
    "    # Based on the filename, identify the video number, release angle, and pendulum length.\n",
    "    n, l, deg = re.match(r'position/raw/(\\d+)_(\\d\\d)cm_(\\d\\d)deg', pendulum_file).groups()\n",
    "    \n",
    "    # Create a new blank DataFrame\n",
    "    df = pd.DataFrame()\n",
    "    \n",
    "    # Pull togeth the pendulum and pivot tracking data.\n",
    "    df['t']  = pendulum_df['t']\n",
    "    df['x']  = pendulum_df['x']\n",
    "    df['y']  = pendulum_df['y']\n",
    "    df['x0'] = pivot_df['x']\n",
    "    df['y0'] = pivot_df['y']\n",
    "    \n",
    "    # Covert to vector components.\n",
    "    df['vx'] = df['x'] - df['x0']\n",
    "    df['vy'] = df['y'] - df['y0']\n",
    "    \n",
    "    # Convert to radial coordinates.\n",
    "    df['r']     = np.sqrt(df['vx']*df['vx'] + df['vy']*df['vy'])\n",
    "    df['theta'] = np.arctan(df['vx'] / df['vy'])\n",
    "    df['omega'] = df['theta'].diff().rolling(5).mean() / df['t'].diff()\n",
    "    df['alpha'] = df['omega'].diff().rolling(5).mean() / df['t'].diff()\n",
    "    \n",
    "    # Add the descriptive parameters.\n",
    "    df['n'] = str(n)\n",
    "    df['l'] = float(l) / 100.\n",
    "    df['angle_o'] = float(deg)\n",
    "    df['theta_o'] = float(deg) * np.pi / 180.\n",
    "    \n",
    "    # Add the processsed file to the processed files list.\n",
    "    new_name = 'position/processed/video_' + video + '_' + str(int(l) * 10) + 'mm_' + deg + 'deg'\n",
    "    df.to_csv(new_name + '.csv', )\n",
    "\n",
    "    # Append the video data to the master list.\n",
    "    master_df = pd.concat([master_df, df]) "
   ]
  },
  {
   "cell_type": "markdown",
   "metadata": {},
   "source": [
    "Now we need to apply the two models Dan created to relate the tension to the accelerations. These values are hand computed."
   ]
  },
  {
   "cell_type": "code",
   "execution_count": 73,
   "metadata": {},
   "outputs": [
    {
     "data": {
      "text/html": [
       "<div>\n",
       "<style scoped>\n",
       "    .dataframe tbody tr th:only-of-type {\n",
       "        vertical-align: middle;\n",
       "    }\n",
       "\n",
       "    .dataframe tbody tr th {\n",
       "        vertical-align: top;\n",
       "    }\n",
       "\n",
       "    .dataframe thead th {\n",
       "        text-align: right;\n",
       "    }\n",
       "</style>\n",
       "<table border=\"1\" class=\"dataframe\">\n",
       "  <thead>\n",
       "    <tr style=\"text-align: right;\">\n",
       "      <th></th>\n",
       "      <th>t</th>\n",
       "      <th>x</th>\n",
       "      <th>y</th>\n",
       "      <th>x0</th>\n",
       "      <th>y0</th>\n",
       "      <th>vx</th>\n",
       "      <th>vy</th>\n",
       "      <th>r</th>\n",
       "      <th>theta</th>\n",
       "      <th>omega</th>\n",
       "      <th>alpha</th>\n",
       "      <th>n</th>\n",
       "      <th>l</th>\n",
       "      <th>angle_o</th>\n",
       "      <th>theta_o</th>\n",
       "      <th>m_bob</th>\n",
       "      <th>m_CG</th>\n",
       "      <th>l_CG</th>\n",
       "    </tr>\n",
       "  </thead>\n",
       "  <tbody>\n",
       "    <tr>\n",
       "      <th>0</th>\n",
       "      <td>0.000000</td>\n",
       "      <td>189.481737</td>\n",
       "      <td>242.455126</td>\n",
       "      <td>206.612849</td>\n",
       "      <td>356.135852</td>\n",
       "      <td>-17.131112</td>\n",
       "      <td>-113.680726</td>\n",
       "      <td>114.964266</td>\n",
       "      <td>0.149570</td>\n",
       "      <td>NaN</td>\n",
       "      <td>NaN</td>\n",
       "      <td>1638</td>\n",
       "      <td>0.25</td>\n",
       "      <td>15.0</td>\n",
       "      <td>0.261799</td>\n",
       "      <td>404.6</td>\n",
       "      <td>498.0</td>\n",
       "      <td>0.29535</td>\n",
       "    </tr>\n",
       "    <tr>\n",
       "      <th>1</th>\n",
       "      <td>0.033367</td>\n",
       "      <td>194.348222</td>\n",
       "      <td>241.691706</td>\n",
       "      <td>206.646598</td>\n",
       "      <td>356.125867</td>\n",
       "      <td>-12.298375</td>\n",
       "      <td>-114.434160</td>\n",
       "      <td>115.093123</td>\n",
       "      <td>0.107060</td>\n",
       "      <td>NaN</td>\n",
       "      <td>NaN</td>\n",
       "      <td>1638</td>\n",
       "      <td>0.25</td>\n",
       "      <td>15.0</td>\n",
       "      <td>0.261799</td>\n",
       "      <td>404.6</td>\n",
       "      <td>498.0</td>\n",
       "      <td>0.29535</td>\n",
       "    </tr>\n",
       "    <tr>\n",
       "      <th>2</th>\n",
       "      <td>0.066733</td>\n",
       "      <td>199.536311</td>\n",
       "      <td>241.401132</td>\n",
       "      <td>206.644681</td>\n",
       "      <td>356.149986</td>\n",
       "      <td>-7.108370</td>\n",
       "      <td>-114.748854</td>\n",
       "      <td>114.968815</td>\n",
       "      <td>0.061868</td>\n",
       "      <td>NaN</td>\n",
       "      <td>NaN</td>\n",
       "      <td>1638</td>\n",
       "      <td>0.25</td>\n",
       "      <td>15.0</td>\n",
       "      <td>0.261799</td>\n",
       "      <td>404.6</td>\n",
       "      <td>498.0</td>\n",
       "      <td>0.29535</td>\n",
       "    </tr>\n",
       "    <tr>\n",
       "      <th>3</th>\n",
       "      <td>0.100100</td>\n",
       "      <td>204.969473</td>\n",
       "      <td>241.161059</td>\n",
       "      <td>206.621751</td>\n",
       "      <td>356.129483</td>\n",
       "      <td>-1.652278</td>\n",
       "      <td>-114.968424</td>\n",
       "      <td>114.980296</td>\n",
       "      <td>0.014371</td>\n",
       "      <td>NaN</td>\n",
       "      <td>NaN</td>\n",
       "      <td>1638</td>\n",
       "      <td>0.25</td>\n",
       "      <td>15.0</td>\n",
       "      <td>0.261799</td>\n",
       "      <td>404.6</td>\n",
       "      <td>498.0</td>\n",
       "      <td>0.29535</td>\n",
       "    </tr>\n",
       "    <tr>\n",
       "      <th>4</th>\n",
       "      <td>0.133467</td>\n",
       "      <td>210.437120</td>\n",
       "      <td>241.484562</td>\n",
       "      <td>206.726035</td>\n",
       "      <td>356.116854</td>\n",
       "      <td>3.711084</td>\n",
       "      <td>-114.632292</td>\n",
       "      <td>114.692347</td>\n",
       "      <td>-0.032363</td>\n",
       "      <td>NaN</td>\n",
       "      <td>NaN</td>\n",
       "      <td>1638</td>\n",
       "      <td>0.25</td>\n",
       "      <td>15.0</td>\n",
       "      <td>0.261799</td>\n",
       "      <td>404.6</td>\n",
       "      <td>498.0</td>\n",
       "      <td>0.29535</td>\n",
       "    </tr>\n",
       "  </tbody>\n",
       "</table>\n",
       "</div>"
      ],
      "text/plain": [
       "          t           x           y          x0          y0         vx  \\\n",
       "0  0.000000  189.481737  242.455126  206.612849  356.135852 -17.131112   \n",
       "1  0.033367  194.348222  241.691706  206.646598  356.125867 -12.298375   \n",
       "2  0.066733  199.536311  241.401132  206.644681  356.149986  -7.108370   \n",
       "3  0.100100  204.969473  241.161059  206.621751  356.129483  -1.652278   \n",
       "4  0.133467  210.437120  241.484562  206.726035  356.116854   3.711084   \n",
       "\n",
       "           vy           r     theta  omega  alpha     n     l  angle_o  \\\n",
       "0 -113.680726  114.964266  0.149570    NaN    NaN  1638  0.25     15.0   \n",
       "1 -114.434160  115.093123  0.107060    NaN    NaN  1638  0.25     15.0   \n",
       "2 -114.748854  114.968815  0.061868    NaN    NaN  1638  0.25     15.0   \n",
       "3 -114.968424  114.980296  0.014371    NaN    NaN  1638  0.25     15.0   \n",
       "4 -114.632292  114.692347 -0.032363    NaN    NaN  1638  0.25     15.0   \n",
       "\n",
       "    theta_o  m_bob   m_CG     l_CG  \n",
       "0  0.261799  404.6  498.0  0.29535  \n",
       "1  0.261799  404.6  498.0  0.29535  \n",
       "2  0.261799  404.6  498.0  0.29535  \n",
       "3  0.261799  404.6  498.0  0.29535  \n",
       "4  0.261799  404.6  498.0  0.29535  "
      ]
     },
     "execution_count": 73,
     "metadata": {},
     "output_type": "execute_result"
    }
   ],
   "source": [
    "master_df['m_bob'] = 404.6\n",
    "master_df['m_CG']  = 498.0\n",
    "\n",
    "master_df['l_CG']  = 0\n",
    "master_df.loc[master_df['l'] == 0.250, 'l_CG'] = 0.29535\n",
    "master_df.loc[master_df['l'] == 0.500, 'l_CG'] = 0.49861\n",
    "master_df.loc[master_df['l'] == 0.750, 'l_CG'] = 0.70188\n",
    "master_df.head()"
   ]
  },
  {
   "cell_type": "markdown",
   "metadata": {},
   "source": [
    "I need to add a row for the force as predicted by Model I and again by Model II>"
   ]
  },
  {
   "cell_type": "code",
   "execution_count": 78,
   "metadata": {},
   "outputs": [],
   "source": [
    "g = 9.81\n",
    "\n",
    "df = master_df\n",
    "\n",
    "df['F1'] = df['m_bob'] * 0.001 * (g * np.cos(df['theta']) + np.power(df['omega'], 2) * df['l'])\n",
    "df['F2'] = df['m_CG']  * 0.001 * (g * np.cos(df['theta']) + np.power(df['omega'], 2) * df['l_CG'])\n",
    "\n",
    "master_df = df"
   ]
  },
  {
   "cell_type": "markdown",
   "metadata": {},
   "source": [
    "Now we just need to save out the ''master'' data frame."
   ]
  },
  {
   "cell_type": "code",
   "execution_count": 79,
   "metadata": {},
   "outputs": [],
   "source": [
    "master_df.to_csv(r'position/processed/master.csv')"
   ]
  },
  {
   "cell_type": "markdown",
   "metadata": {},
   "source": [
    "Now we just need to read this massive file and create some plots."
   ]
  },
  {
   "cell_type": "code",
   "execution_count": 81,
   "metadata": {},
   "outputs": [
    {
     "data": {
      "image/png": "[encoded data removed]",
      "text/plain": [
       "<Figure size 432x288 with 9 Axes>"
      ]
     },
     "metadata": {
      "needs_background": "light"
     },
     "output_type": "display_data"
    }
   ],
   "source": [
    "df = pd.read_csv('position/processed/master.csv')\n",
    "\n",
    "f, ax = plt.subplots(3,3, sharex=True, sharey=True)\n",
    "f.subplots_adjust(wspace=0, hspace=0)\n",
    "\n",
    "for i, length in enumerate([0.250, 0.500, 0.750]):\n",
    "    for j, degree in enumerate([5.0, 15.0, 30.0]):\n",
    "        \n",
    "        run = df[(df['l'] == length) & \n",
    "                 (df['angle_o'] == degree) &\n",
    "                 (df['t'] < 9)]\n",
    "        \n",
    "        ax[i, j].plot(run['t'], run['alpha'], \n",
    "                      c='k', linewidth=2,\n",
    "                      label='{l} mm, {a} deg'.format(l=length * 10000, a=degree))\n",
    "        \n",
    "        ax[i, j].set_ylim((-25, 25))\n",
    "        \n",
    "        if j == 0:\n",
    "            ax[i, j].set_ylabel(r'$\\alpha$ (rad/s$^2$)')\n",
    "            \n",
    "        if i == 2: \n",
    "            ax[i, j].set_xlabel('Time (s)')\n",
    "            \n",
    "f.savefig('acceleration', dpi=300)\n",
    "f.show()\n",
    "        "
   ]
  },
  {
   "cell_type": "markdown",
   "metadata": {},
   "source": [
    "Now we want to graph the force as predicted by the two models, and compare it to the true force. We'll start by rewriting to `read_lvm` function to automatically calibrate our `*.lvm` files us."
   ]
  },
  {
   "cell_type": "code",
   "execution_count": 96,
   "metadata": {},
   "outputs": [],
   "source": [
    "def read_lvm_and_calibrate(filename):\n",
    "    ''' Take filename of *.lvm file and return data frame. '''\n",
    "    \n",
    "    df = read_lvm(filename) \n",
    "    df['F'] = calibration_N(df['V'])\n",
    "    \n",
    "    return df"
   ]
  },
  {
   "cell_type": "markdown",
   "metadata": {},
   "source": [
    "Now let's process all of our force files into a data frame, much the same way we did with position."
   ]
  },
  {
   "cell_type": "code",
   "execution_count": 104,
   "metadata": {},
   "outputs": [
    {
     "data": {
      "text/plain": [
       "90201"
      ]
     },
     "execution_count": 104,
     "metadata": {},
     "output_type": "execute_result"
    }
   ],
   "source": [
    "force_df = pd.DataFrame()\n",
    "\n",
    "for file in glob.glob('force/data*'):\n",
    "    df = read_lvm_and_calibrate(file)\n",
    "    \n",
    "    degree, length = re.search(r'data_(\\d{1,2})_deg_at_(\\d{3})_mm', file).groups()\n",
    "    length = float(length) / 1000\n",
    "    degree = float(degree)\n",
    "    \n",
    "    df['angle_o'] = degree\n",
    "    df['l']       = l\n",
    "    \n",
    "    force_df = pd.concat([force_df, df])\n",
    "    \n",
    "len(force_df)\n",
    "\n",
    "force_df.to_csv('master')"
   ]
  },
  {
   "cell_type": "code",
   "execution_count": 86,
   "metadata": {},
   "outputs": [
    {
     "data": {
      "image/png": "[encoded data removed]",
      "text/plain": [
       "<Figure size 432x288 with 9 Axes>"
      ]
     },
     "metadata": {
      "needs_background": "light"
     },
     "output_type": "display_data"
    }
   ],
   "source": [
    "df = pd.read_csv('position/processed/master.csv')\n",
    "\n",
    "f, ax = plt.subplots(3,3, sharex=True, sharey=True)\n",
    "f.subplots_adjust(wspace=0, hspace=0)\n",
    "\n",
    "for i, length in enumerate([0.250, 0.500, 0.750]):\n",
    "    for j, degree in enumerate([5.0, 15.0, 30.0]):\n",
    "        \n",
    "        run = df[(df['l'] == length) & \n",
    "                 (df['angle_o'] == degree) &\n",
    "                 (df['t'] < 9)]\n",
    "        \n",
    "        ax[i, j].plot(run['t'], run['F1'])\n",
    "        ax[i, j].plot(run['t'], run['F2'])\n",
    "        \n",
    "        #ax[i, j].set_ylim((-25, 25))\n",
    "        \n",
    "        if j == 0:\n",
    "            ax[i, j].set_ylabel(r'F (N)')\n",
    "            \n",
    "        if i == 2: \n",
    "            ax[i, j].set_xlabel('Time (s)')\n",
    "            \n",
    "f.savefig('force', dpi=300)\n",
    "f.show()"
   ]
  }
 ],
 "metadata": {
  "kernelspec": {
   "display_name": "Python 3",
   "language": "python",
   "name": "python3"
  },
  "language_info": {
   "codemirror_mode": {
    "name": "ipython",
    "version": 3
   },
   "file_extension": ".py",
   "mimetype": "text/x-python",
   "name": "python",
   "nbconvert_exporter": "python",
   "pygments_lexer": "ipython3",
   "version": "3.5.2"
  }
 },
 "nbformat": 4,
 "nbformat_minor": 2
}
