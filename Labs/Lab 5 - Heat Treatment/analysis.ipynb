{
 "cells": [
  {
   "cell_type": "markdown",
   "metadata": {},
   "source": [
    "# Heat Treatment\n",
    "\n",
    "The following notebook was used to convert the `*.lvm` files produced by Bradley's tensile testing machine into mechanical properties data for the Lab 5 report.\n",
    "\n",
    "The first step is to import the standard plotting, analysis, and numerical method libraries."
   ]
  },
  {
   "cell_type": "code",
   "execution_count": 2,
   "metadata": {},
   "outputs": [],
   "source": [
    "from matplotlib import pyplot as plt\n",
    "\n",
    "import pandas as pd\n",
    "import numpy as np"
   ]
  },
  {
   "cell_type": "markdown",
   "metadata": {},
   "source": [
    "The next step is to get a look at the format of the ouptut from the tensile tester. Raw samples are in a folder called `sample data/`."
   ]
  },
  {
   "cell_type": "code",
   "execution_count": 3,
   "metadata": {},
   "outputs": [
    {
     "name": "stdout",
     "output_type": "stream",
     "text": [
      "sample data/10am_air_quench.lvm\n",
      "sample data/10am_oil_quench.lvm\n",
      "sample data/10am_untreated.lvm\n",
      "sample data/10am_water_quench.lvm\n",
      "sample data/10am_water_quench_0001.lvm\n",
      "sample data/8am_air_quench.lvm\n"
     ]
    }
   ],
   "source": [
    "import glob\n",
    "\n",
    "for file in glob.glob('sample data/*.lvm'):\n",
    "    print(file)"
   ]
  },
  {
   "cell_type": "code",
   "execution_count": 4,
   "metadata": {},
   "outputs": [
    {
     "name": "stdout",
     "output_type": "stream",
     "text": [
      "LabVIEW Measurement\n",
      "Writer_Version\t2\n",
      "Reader_Version\t2\n",
      "Separator\tTab\n",
      "Decimal_Separator\t.\n",
      "Multi_Headings\tNo\n",
      "X_Columns\tOne\n",
      "Time_Pref\tAbsolute\n",
      "Operator\tmachine07\n",
      "Date\t2018/11/19\n",
      "Time\t09:07:52.2131250998842608932\n",
      "***End_of_Header***\n",
      "\n",
      "Channels\t2\n",
      "Samples\t100\t100\n",
      "Date\t2018/11/19\t2018/11/19\n",
      "Time\t10:29:42.2131250998843631031\t10:29:42.2131400995329192163\n",
      "Y_Unit_Label\tLbf\tVolts\n",
      "X_Dimension\tTime\tTime\n",
      "X0\t9.0000000000000000E+0\t9.0000000000000000E+0\n",
      "Delta_X\t0.010000\t0.010000\n",
      "***End_of_Header***\n",
      "X_Value\tLoad-lbf\tStrain-usn\tComment\n",
      "9.000000\t1209.167480\t1935.205078\n",
      "9.010000\t1210.845947\t1941.308594\n",
      "9.020000\t1219.573975\t1953.515625\n",
      "9.030000\t1223.266602\t1956.567383\n",
      "9.040000\t1216.552734\t1953.515625\n",
      "9.050000\t1216.552734\t1971.826172\n",
      "9.060000\t1224.609375\t1950.463867\n"
     ]
    }
   ],
   "source": [
    "with open(file) as f:\n",
    "    for line in f.readlines()[:30]:\n",
    "        print(line.strip())"
   ]
  },
  {
   "cell_type": "code",
   "execution_count": 57,
   "metadata": {},
   "outputs": [
    {
     "data": {
      "image/png": "[encoded data removed]",
      "text/plain": [
       "<Figure size 432x288 with 1 Axes>"
      ]
     },
     "metadata": {
      "needs_background": "light"
     },
     "output_type": "display_data"
    }
   ],
   "source": [
    "import re\n",
    "\n",
    "diameter = 0.190\n",
    "diameter = 0.190 * 2.54 / 100.\n",
    "radius   = diameter / 2\n",
    "\n",
    "area = np.pi * radius**2 \n",
    "\n",
    "for file in glob.glob('sample data/*.lvm'):\n",
    "    time, treatment = re.search(r'(\\d\\d?am).*(air|oil|untreated|water)', file).groups()\n",
    "    \n",
    "    df = pd.read_csv(file, skiprows=23, names=['t', 'F', 'e', 'comment'], delimiter='\\t')\n",
    "    plt.plot(df['e'], (df['F'] * 4.44) / area / 1e6, label=time + ' ' + treatment, linewidth=5)\n",
    "\n",
    "plt.ylabel('Force (MPa)')\n",
    "plt.xlabel('Strain ($\\mu m/m$)')\n",
    "plt.legend()\n",
    "\n",
    "plt.xlim((0, 150000))\n",
    "plt.show()"
   ]
  },
  {
   "cell_type": "markdown",
   "metadata": {},
   "source": [
    "Clearly the data is going to require some individualized cleaning. We will import the files manually, extract the data, clean it, and save it as a `*.csv`."
   ]
  },
  {
   "cell_type": "code",
   "execution_count": 58,
   "metadata": {},
   "outputs": [
    {
     "data": {
      "text/html": [
       "<div>\n",
       "<style scoped>\n",
       "    .dataframe tbody tr th:only-of-type {\n",
       "        vertical-align: middle;\n",
       "    }\n",
       "\n",
       "    .dataframe tbody tr th {\n",
       "        vertical-align: top;\n",
       "    }\n",
       "\n",
       "    .dataframe thead th {\n",
       "        text-align: right;\n",
       "    }\n",
       "</style>\n",
       "<table border=\"1\" class=\"dataframe\">\n",
       "  <thead>\n",
       "    <tr style=\"text-align: right;\">\n",
       "      <th></th>\n",
       "      <th>t</th>\n",
       "      <th>f</th>\n",
       "      <th>e</th>\n",
       "      <th>s</th>\n",
       "    </tr>\n",
       "  </thead>\n",
       "  <tbody>\n",
       "    <tr>\n",
       "      <th>0</th>\n",
       "      <td>0.00</td>\n",
       "      <td>92.580749</td>\n",
       "      <td>3.076172e-06</td>\n",
       "      <td>5.061231e+06</td>\n",
       "    </tr>\n",
       "    <tr>\n",
       "      <th>1</th>\n",
       "      <td>0.01</td>\n",
       "      <td>101.540176</td>\n",
       "      <td>-2.438965e-05</td>\n",
       "      <td>5.551028e+06</td>\n",
       "    </tr>\n",
       "    <tr>\n",
       "      <th>2</th>\n",
       "      <td>0.02</td>\n",
       "      <td>122.445507</td>\n",
       "      <td>-1.523437e-05</td>\n",
       "      <td>6.693886e+06</td>\n",
       "    </tr>\n",
       "    <tr>\n",
       "      <th>3</th>\n",
       "      <td>0.03</td>\n",
       "      <td>97.060463</td>\n",
       "      <td>2.441400e-08</td>\n",
       "      <td>5.306129e+06</td>\n",
       "    </tr>\n",
       "    <tr>\n",
       "      <th>4</th>\n",
       "      <td>0.04</td>\n",
       "      <td>106.019894</td>\n",
       "      <td>-7.932129e-05</td>\n",
       "      <td>5.795926e+06</td>\n",
       "    </tr>\n",
       "  </tbody>\n",
       "</table>\n",
       "</div>"
      ],
      "text/plain": [
       "      t           f             e             s\n",
       "0  0.00   92.580749  3.076172e-06  5.061231e+06\n",
       "1  0.01  101.540176 -2.438965e-05  5.551028e+06\n",
       "2  0.02  122.445507 -1.523437e-05  6.693886e+06\n",
       "3  0.03   97.060463  2.441400e-08  5.306129e+06\n",
       "4  0.04  106.019894 -7.932129e-05  5.795926e+06"
      ]
     },
     "execution_count": 58,
     "metadata": {},
     "output_type": "execute_result"
    },
    {
     "data": {
      "image/png": "[encoded data removed]",
      "text/plain": [
       "<Figure size 432x288 with 1 Axes>"
      ]
     },
     "metadata": {
      "needs_background": "light"
     },
     "output_type": "display_data"
    }
   ],
   "source": [
    "file = r'sample data/10am_oil_quench.lvm'\n",
    "\n",
    "df = pd.read_csv(file, skiprows=23, delimiter='\\t', names=['t', 'f', 'e', 'comment'])\n",
    "df = df.drop(columns=['comment'])\n",
    "df['t'] = df['t'] - min(df['t'])\n",
    "df['e'] = df['e'] / 1e6\n",
    "\n",
    "df = df[df['t'] < 18.63]\n",
    "\n",
    "# Convert [lbf] to [N]\n",
    "df['f'] = df['f'] * 4.44822\n",
    "\n",
    "diameter = 0.190           # in.\n",
    "diameter = diameter * 2.54 # cm.\n",
    "diameter = diameter / 100  # m.\n",
    "radius   = diameter / 2\n",
    "\n",
    "area = np.pi * radius**2  # m2\n",
    "\n",
    "df['s'] = df['f'] / area\n",
    "\n",
    "plt.plot(df['e'], df['s'] / 1e6)\n",
    "\n",
    "df.to_csv(r'processed data/oil.csv')\n",
    "df.head()"
   ]
  },
  {
   "cell_type": "code",
   "execution_count": 60,
   "metadata": {},
   "outputs": [
    {
     "data": {
      "text/html": [
       "<div>\n",
       "<style scoped>\n",
       "    .dataframe tbody tr th:only-of-type {\n",
       "        vertical-align: middle;\n",
       "    }\n",
       "\n",
       "    .dataframe tbody tr th {\n",
       "        vertical-align: top;\n",
       "    }\n",
       "\n",
       "    .dataframe thead th {\n",
       "        text-align: right;\n",
       "    }\n",
       "</style>\n",
       "<table border=\"1\" class=\"dataframe\">\n",
       "  <thead>\n",
       "    <tr style=\"text-align: right;\">\n",
       "      <th></th>\n",
       "      <th>t</th>\n",
       "      <th>f</th>\n",
       "      <th>e</th>\n",
       "      <th>s</th>\n",
       "    </tr>\n",
       "  </thead>\n",
       "  <tbody>\n",
       "    <tr>\n",
       "      <th>0</th>\n",
       "      <td>0.00</td>\n",
       "      <td>5378.642968</td>\n",
       "      <td>0.001935</td>\n",
       "      <td>2.940412e+08</td>\n",
       "    </tr>\n",
       "    <tr>\n",
       "      <th>1</th>\n",
       "      <td>0.01</td>\n",
       "      <td>5386.109158</td>\n",
       "      <td>0.001941</td>\n",
       "      <td>2.944494e+08</td>\n",
       "    </tr>\n",
       "    <tr>\n",
       "      <th>2</th>\n",
       "      <td>0.02</td>\n",
       "      <td>5424.933347</td>\n",
       "      <td>0.001954</td>\n",
       "      <td>2.965718e+08</td>\n",
       "    </tr>\n",
       "    <tr>\n",
       "      <th>3</th>\n",
       "      <td>0.03</td>\n",
       "      <td>5441.358964</td>\n",
       "      <td>0.001957</td>\n",
       "      <td>2.974698e+08</td>\n",
       "    </tr>\n",
       "    <tr>\n",
       "      <th>4</th>\n",
       "      <td>0.04</td>\n",
       "      <td>5411.494202</td>\n",
       "      <td>0.001954</td>\n",
       "      <td>2.958371e+08</td>\n",
       "    </tr>\n",
       "  </tbody>\n",
       "</table>\n",
       "</div>"
      ],
      "text/plain": [
       "      t            f         e             s\n",
       "0  0.00  5378.642968  0.001935  2.940412e+08\n",
       "1  0.01  5386.109158  0.001941  2.944494e+08\n",
       "2  0.02  5424.933347  0.001954  2.965718e+08\n",
       "3  0.03  5441.358964  0.001957  2.974698e+08\n",
       "4  0.04  5411.494202  0.001954  2.958371e+08"
      ]
     },
     "execution_count": 60,
     "metadata": {},
     "output_type": "execute_result"
    },
    {
     "data": {
      "image/png": "[encoded data removed]",
      "text/plain": [
       "<Figure size 432x288 with 1 Axes>"
      ]
     },
     "metadata": {
      "needs_background": "light"
     },
     "output_type": "display_data"
    }
   ],
   "source": [
    "file = r'sample data/8am_air_quench.lvm'\n",
    "\n",
    "df = pd.read_csv(file, skiprows=23, delimiter='\\t', names=['t', 'f', 'e', 'comment'])\n",
    "df = df.drop(columns=['comment'])\n",
    "df['t'] = df['t'] - min(df['t'])\n",
    "df['e'] = df['e'] / 1e6\n",
    "\n",
    "df = df[df['t'] < 4.18]\n",
    "\n",
    "# Convert [lbf] to [N]\n",
    "df['f'] = df['f'] * 4.44822\n",
    "\n",
    "diameter = 0.190           # in.\n",
    "diameter = diameter * 2.54 # cm.\n",
    "diameter = diameter / 100  # m.\n",
    "radius   = diameter / 2\n",
    "\n",
    "area = np.pi * radius**2  # m2\n",
    "\n",
    "df['s'] = df['f'] / area\n",
    "\n",
    "plt.plot(df['e'], df['s'] / 1e6)\n",
    "\n",
    "df.to_csv(r'processed data/air.csv')\n",
    "df.head()"
   ]
  },
  {
   "cell_type": "code",
   "execution_count": 61,
   "metadata": {},
   "outputs": [
    {
     "data": {
      "text/html": [
       "<div>\n",
       "<style scoped>\n",
       "    .dataframe tbody tr th:only-of-type {\n",
       "        vertical-align: middle;\n",
       "    }\n",
       "\n",
       "    .dataframe tbody tr th {\n",
       "        vertical-align: top;\n",
       "    }\n",
       "\n",
       "    .dataframe thead th {\n",
       "        text-align: right;\n",
       "    }\n",
       "</style>\n",
       "<table border=\"1\" class=\"dataframe\">\n",
       "  <thead>\n",
       "    <tr style=\"text-align: right;\">\n",
       "      <th></th>\n",
       "      <th>t</th>\n",
       "      <th>f</th>\n",
       "      <th>e</th>\n",
       "      <th>s</th>\n",
       "    </tr>\n",
       "  </thead>\n",
       "  <tbody>\n",
       "    <tr>\n",
       "      <th>8</th>\n",
       "      <td>0.08</td>\n",
       "      <td>91.087513</td>\n",
       "      <td>0.000003</td>\n",
       "      <td>4.979599e+06</td>\n",
       "    </tr>\n",
       "    <tr>\n",
       "      <th>100</th>\n",
       "      <td>1.00</td>\n",
       "      <td>104.526653</td>\n",
       "      <td>0.000003</td>\n",
       "      <td>5.714293e+06</td>\n",
       "    </tr>\n",
       "    <tr>\n",
       "      <th>26</th>\n",
       "      <td>0.26</td>\n",
       "      <td>125.431984</td>\n",
       "      <td>0.000003</td>\n",
       "      <td>6.857152e+06</td>\n",
       "    </tr>\n",
       "    <tr>\n",
       "      <th>210</th>\n",
       "      <td>2.10</td>\n",
       "      <td>915.354841</td>\n",
       "      <td>0.000003</td>\n",
       "      <td>5.004088e+07</td>\n",
       "    </tr>\n",
       "    <tr>\n",
       "      <th>9</th>\n",
       "      <td>0.09</td>\n",
       "      <td>103.033417</td>\n",
       "      <td>0.000003</td>\n",
       "      <td>5.632661e+06</td>\n",
       "    </tr>\n",
       "  </tbody>\n",
       "</table>\n",
       "</div>"
      ],
      "text/plain": [
       "        t           f         e             s\n",
       "8    0.08   91.087513  0.000003  4.979599e+06\n",
       "100  1.00  104.526653  0.000003  5.714293e+06\n",
       "26   0.26  125.431984  0.000003  6.857152e+06\n",
       "210  2.10  915.354841  0.000003  5.004088e+07\n",
       "9    0.09  103.033417  0.000003  5.632661e+06"
      ]
     },
     "execution_count": 61,
     "metadata": {},
     "output_type": "execute_result"
    },
    {
     "data": {
      "image/png": "[encoded data removed]",
      "text/plain": [
       "<Figure size 432x288 with 1 Axes>"
      ]
     },
     "metadata": {
      "needs_background": "light"
     },
     "output_type": "display_data"
    }
   ],
   "source": [
    "file1 = r'sample data/10am_water_quench.lvm'\n",
    "file2 = r'sample data/10am_water_quench_0001.lvm'\n",
    "\n",
    "df1 = pd.read_csv(file1, skiprows=23, delimiter='\\t', names=['t', 'f', 'e', 'comment'])\n",
    "df2 = pd.read_csv(file2, skiprows=23, delimiter='\\t', names=['t', 'f', 'e', 'comment'])\n",
    "\n",
    "df = pd.concat([df1, df2])\n",
    "df = df.sort_values(by=['e'])\n",
    "\n",
    "\n",
    "\n",
    "df = df.drop(columns=['comment'])\n",
    "df['t'] = df['t'] - min(df['t'])\n",
    "df['e'] = df['e'] / 1e6\n",
    "\n",
    "df = df[df['t'] < 50]\n",
    "df = df[df['e'] > 0]\n",
    "\n",
    "# Convert [lbf] to [N]\n",
    "df['f'] = df['f'] * 4.44822\n",
    "\n",
    "diameter = 0.190           # in.\n",
    "diameter = diameter * 2.54 # cm.\n",
    "diameter = diameter / 100  # m.\n",
    "radius   = diameter / 2\n",
    "\n",
    "area = np.pi * radius**2  # m2\n",
    "\n",
    "df['s'] = df['f'] / area\n",
    "\n",
    "plt.title('Water Quenched 1018 Steel Sample')\n",
    "plt.xlabel('Strain (m/m)')\n",
    "plt.ylabel('Stress (MPa)')\n",
    "plt.plot(df['e'], df['s'] / 1e6)\n",
    "\n",
    "df.to_csv(r'processed data/water.csv')\n",
    "df.head()"
   ]
  },
  {
   "cell_type": "code",
   "execution_count": 63,
   "metadata": {},
   "outputs": [
    {
     "data": {
      "text/html": [
       "<div>\n",
       "<style scoped>\n",
       "    .dataframe tbody tr th:only-of-type {\n",
       "        vertical-align: middle;\n",
       "    }\n",
       "\n",
       "    .dataframe tbody tr th {\n",
       "        vertical-align: top;\n",
       "    }\n",
       "\n",
       "    .dataframe thead th {\n",
       "        text-align: right;\n",
       "    }\n",
       "</style>\n",
       "<table border=\"1\" class=\"dataframe\">\n",
       "  <thead>\n",
       "    <tr style=\"text-align: right;\">\n",
       "      <th></th>\n",
       "      <th>t</th>\n",
       "      <th>f</th>\n",
       "      <th>e</th>\n",
       "      <th>s</th>\n",
       "    </tr>\n",
       "  </thead>\n",
       "  <tbody>\n",
       "    <tr>\n",
       "      <th>0</th>\n",
       "      <td>0.00</td>\n",
       "      <td>94.073990</td>\n",
       "      <td>0.000039</td>\n",
       "      <td>5.142864e+06</td>\n",
       "    </tr>\n",
       "    <tr>\n",
       "      <th>1</th>\n",
       "      <td>0.01</td>\n",
       "      <td>113.486080</td>\n",
       "      <td>0.000027</td>\n",
       "      <td>6.204090e+06</td>\n",
       "    </tr>\n",
       "    <tr>\n",
       "      <th>2</th>\n",
       "      <td>0.02</td>\n",
       "      <td>106.019894</td>\n",
       "      <td>0.000015</td>\n",
       "      <td>5.795926e+06</td>\n",
       "    </tr>\n",
       "    <tr>\n",
       "      <th>3</th>\n",
       "      <td>0.03</td>\n",
       "      <td>110.499608</td>\n",
       "      <td>0.000027</td>\n",
       "      <td>6.040825e+06</td>\n",
       "    </tr>\n",
       "    <tr>\n",
       "      <th>4</th>\n",
       "      <td>0.04</td>\n",
       "      <td>111.992844</td>\n",
       "      <td>0.000027</td>\n",
       "      <td>6.122457e+06</td>\n",
       "    </tr>\n",
       "  </tbody>\n",
       "</table>\n",
       "</div>"
      ],
      "text/plain": [
       "      t           f         e             s\n",
       "0  0.00   94.073990  0.000039  5.142864e+06\n",
       "1  0.01  113.486080  0.000027  6.204090e+06\n",
       "2  0.02  106.019894  0.000015  5.795926e+06\n",
       "3  0.03  110.499608  0.000027  6.040825e+06\n",
       "4  0.04  111.992844  0.000027  6.122457e+06"
      ]
     },
     "execution_count": 63,
     "metadata": {},
     "output_type": "execute_result"
    },
    {
     "data": {
      "image/png": "[encoded data removed]",
      "text/plain": [
       "<Figure size 432x288 with 1 Axes>"
      ]
     },
     "metadata": {
      "needs_background": "light"
     },
     "output_type": "display_data"
    }
   ],
   "source": [
    "file = r'sample data/10am_untreated.lvm'\n",
    "\n",
    "df = pd.read_csv(file, skiprows=23, delimiter='\\t', names=['t', 'f', 'e', 'comment'])\n",
    "df = df.drop(columns=['comment'])\n",
    "df['t'] = df['t'] - min(df['t'])\n",
    "df['e'] = df['e'] / 1e6\n",
    "\n",
    "df = df[df['t'] < 14.23]\n",
    "\n",
    "# Convert [lbf] to [N]\n",
    "df['f'] = df['f'] * 4.44822\n",
    "\n",
    "diameter = 0.190           # in.\n",
    "diameter = diameter * 2.54 # cm.\n",
    "diameter = diameter / 100  # m.\n",
    "radius   = diameter / 2\n",
    "\n",
    "area = np.pi * radius**2  # m2\n",
    "\n",
    "df['s'] = df['f'] / area\n",
    "\n",
    "plt.plot(df['e'], df['s'] / 1e6)\n",
    "\n",
    "df.to_csv(r'processed data/untreated.csv')\n",
    "df.head()"
   ]
  },
  {
   "cell_type": "markdown",
   "metadata": {},
   "source": [
    "I am not particularly proud of the way I had to do that, but there were only four samples, and each of them had very unique problems. In the end, the do not repeat yourself (DRY) approach really only applies if it actually saves you time, and minimizes complexity. In this case, a semimanual approach was faster and clearler.\n",
    "\n",
    "Now we can plot the *cleaned* data files."
   ]
  },
  {
   "cell_type": "code",
   "execution_count": 72,
   "metadata": {},
   "outputs": [
    {
     "name": "stdout",
     "output_type": "stream",
     "text": [
      "air\n",
      "su: 519 MPa\n",
      "sy: 501 MPa\n",
      "E:  125 GPa\n",
      "----------\n",
      "\n",
      "oil\n",
      "su: 981 MPa\n",
      "sy: 734 MPa\n",
      "E:  156 GPa\n",
      "----------\n",
      "\n",
      "untreated\n",
      "su: 662 MPa\n",
      "sy: 611 MPa\n",
      "E:  190 GPa\n",
      "----------\n",
      "\n",
      "water\n",
      "su: 1427 MPa\n",
      "sy: 1087 MPa\n",
      "E:  191 GPa\n",
      "----------\n",
      "\n"
     ]
    },
    {
     "data": {
      "image/png": "[encoded data removed]",
      "text/plain": [
       "<Figure size 432x288 with 1 Axes>"
      ]
     },
     "metadata": {
      "needs_background": "light"
     },
     "output_type": "display_data"
    }
   ],
   "source": [
    "for file in glob.glob(r'processed data/*'):\n",
    "    df = pd.read_csv(file)\n",
    "    \n",
    "    sample = file.split('.')[0].split('/')[1]\n",
    "    \n",
    "    plt.plot(df['e'], df['s'] / 1e6, label=sample)\n",
    "    plt.scatter(df.iloc[-1]['e'], df.iloc[-1]['s'] / 1e6, marker='x', s=20)\n",
    "    \n",
    "    sigma_u = max(df['s'])\n",
    "    E, _    = np.polyfit(df[df['e'] < 0.003]['e'], df[df['e'] < 0.003]['s'], 1)\n",
    "    \n",
    "    df['s_bar'] = E * (df['e'] - 0.002)\n",
    "    df['error'] = np.power(df['s'] - df['s_bar'], 2)\n",
    "    \n",
    "    sigma_y = df.iloc[df['error'].idxmin()]['s']\n",
    "    \n",
    "    print(sample)\n",
    "    print('su: {:.01f} MPa'.format(sigma_u / 1e6))\n",
    "    print('sy: {:.0f} MPa'.format(sigma_y / 1e6))\n",
    "    print('E:  {:.0f} GPa'.format(E / 1e9))\n",
    "    print('-'*10)\n",
    "    print()\n",
    "    \n",
    "plt.xlim((0, 0.15)) \n",
    "plt.xlabel('Strain (m/m)')\n",
    "plt.ylabel('Stress (MPa)')\n",
    "plt.legend()\n",
    "plt.show()"
   ]
  },
  {
   "cell_type": "code",
   "execution_count": 11,
   "metadata": {},
   "outputs": [
    {
     "data": {
      "text/plain": [
       "'3.5.2 (default, Nov 23 2017, 16:37:01) \\n[GCC 5.4.0 20160609]'"
      ]
     },
     "execution_count": 11,
     "metadata": {},
     "output_type": "execute_result"
    }
   ],
   "source": [
    "import sys\n",
    "\n",
    "sys.version"
   ]
  },
  {
   "cell_type": "code",
   "execution_count": null,
   "metadata": {},
   "outputs": [],
   "source": []
  },
  {
   "cell_type": "code",
   "execution_count": null,
   "metadata": {},
   "outputs": [],
   "source": []
  },
  {
   "cell_type": "code",
   "execution_count": null,
   "metadata": {},
   "outputs": [],
   "source": []
  },
  {
   "cell_type": "code",
   "execution_count": null,
   "metadata": {},
   "outputs": [],
   "source": []
  }
 ],
 "metadata": {
  "kernelspec": {
   "display_name": "Python 3",
   "language": "python",
   "name": "python3"
  },
  "language_info": {
   "codemirror_mode": {
    "name": "ipython",
    "version": 3
   },
   "file_extension": ".py",
   "mimetype": "text/x-python",
   "name": "python",
   "nbconvert_exporter": "python",
   "pygments_lexer": "ipython3",
   "version": "3.5.2"
  }
 },
 "nbformat": 4,
 "nbformat_minor": 2
}
